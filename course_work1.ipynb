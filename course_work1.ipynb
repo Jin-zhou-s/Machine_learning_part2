{
 "cells": [
  {
   "cell_type": "code",
   "execution_count": 1,
   "metadata": {
    "collapsed": true
   },
   "outputs": [
    {
     "name": "stderr",
     "output_type": "stream",
     "text": [
      "C:\\Users\\小 周\\AppData\\Local\\Temp\\ipykernel_9648\\583530823.py:4: DeprecationWarning: \n",
      "Pyarrow will become a required dependency of pandas in the next major release of pandas (pandas 3.0),\n",
      "(to allow more performant data types, such as the Arrow string type, and better interoperability with other libraries)\n",
      "but was not found to be installed on your system.\n",
      "If this would cause problems for you,\n",
      "please provide us feedback at https://github.com/pandas-dev/pandas/issues/54466\n",
      "        \n",
      "  import pandas as pd\n"
     ]
    }
   ],
   "source": [
    "import os.path\n",
    "\n",
    "import np as np\n",
    "import pandas as pd\n",
    "\n",
    "Data_set_path = \"data_set\"\n",
    "\n",
    "\n",
    "def load_train_data_set(data_set_path=Data_set_path):\n",
    "    csv_path = os.path.join(data_set_path, \"train_full_Real-estate.csv\")\n",
    "    return pd.read_csv(csv_path)\n",
    "\n",
    "\n",
    "def load_test_data_set(data_set_path=Data_set_path):\n",
    "    csv_path = os.path.join(data_set_path, \"test_full_Real-estate.csv\")\n",
    "    return pd.read_csv(csv_path)\n"
   ]
  },
  {
   "cell_type": "code",
   "execution_count": 2,
   "outputs": [
    {
     "data": {
      "text/plain": "    No  X1 transaction date  X2 house age  \\\n0  292             2012.833           3.4   \n1  239             2013.083          12.8   \n2  362             2013.083          41.4   \n3  219             2013.417          13.6   \n4  237             2013.167           3.6   \n\n   X3 distance to the nearest MRT station  X4 number of convenience stores  \\\n0                                56.47425                                7   \n1                               732.85280                                0   \n2                               281.20500                                8   \n3                               492.23130                                5   \n4                               373.83890                               10   \n\n   X5 latitude  X6 longitude  Y house price of unit area  \n0     24.95744     121.53711                        54.4  \n1     24.97668     121.52518                        40.6  \n2     24.97345     121.54093                        63.3  \n3     24.96515     121.53737                        43.8  \n4     24.98322     121.53765                        61.9  ",
      "text/html": "<div>\n<style scoped>\n    .dataframe tbody tr th:only-of-type {\n        vertical-align: middle;\n    }\n\n    .dataframe tbody tr th {\n        vertical-align: top;\n    }\n\n    .dataframe thead th {\n        text-align: right;\n    }\n</style>\n<table border=\"1\" class=\"dataframe\">\n  <thead>\n    <tr style=\"text-align: right;\">\n      <th></th>\n      <th>No</th>\n      <th>X1 transaction date</th>\n      <th>X2 house age</th>\n      <th>X3 distance to the nearest MRT station</th>\n      <th>X4 number of convenience stores</th>\n      <th>X5 latitude</th>\n      <th>X6 longitude</th>\n      <th>Y house price of unit area</th>\n    </tr>\n  </thead>\n  <tbody>\n    <tr>\n      <th>0</th>\n      <td>292</td>\n      <td>2012.833</td>\n      <td>3.4</td>\n      <td>56.47425</td>\n      <td>7</td>\n      <td>24.95744</td>\n      <td>121.53711</td>\n      <td>54.4</td>\n    </tr>\n    <tr>\n      <th>1</th>\n      <td>239</td>\n      <td>2013.083</td>\n      <td>12.8</td>\n      <td>732.85280</td>\n      <td>0</td>\n      <td>24.97668</td>\n      <td>121.52518</td>\n      <td>40.6</td>\n    </tr>\n    <tr>\n      <th>2</th>\n      <td>362</td>\n      <td>2013.083</td>\n      <td>41.4</td>\n      <td>281.20500</td>\n      <td>8</td>\n      <td>24.97345</td>\n      <td>121.54093</td>\n      <td>63.3</td>\n    </tr>\n    <tr>\n      <th>3</th>\n      <td>219</td>\n      <td>2013.417</td>\n      <td>13.6</td>\n      <td>492.23130</td>\n      <td>5</td>\n      <td>24.96515</td>\n      <td>121.53737</td>\n      <td>43.8</td>\n    </tr>\n    <tr>\n      <th>4</th>\n      <td>237</td>\n      <td>2013.167</td>\n      <td>3.6</td>\n      <td>373.83890</td>\n      <td>10</td>\n      <td>24.98322</td>\n      <td>121.53765</td>\n      <td>61.9</td>\n    </tr>\n  </tbody>\n</table>\n</div>"
     },
     "execution_count": 2,
     "metadata": {},
     "output_type": "execute_result"
    }
   ],
   "source": [
    "train_data = load_train_data_set()\n",
    "train_data.head()"
   ],
   "metadata": {
    "collapsed": false
   }
  },
  {
   "cell_type": "code",
   "execution_count": 3,
   "outputs": [
    {
     "data": {
      "text/plain": "    No  X1 transaction date  X2 house age  \\\n0  249             2013.000          19.0   \n1  253             2012.833           5.9   \n2  324             2013.417          28.6   \n3  121             2013.167          13.3   \n4  135             2012.667          33.4   \n\n   X3 distance to the nearest MRT station  X4 number of convenience stores  \\\n0                              1009.23500                                0   \n1                                90.45606                                9   \n2                               197.13380                                6   \n3                               492.23130                                5   \n4                               186.96860                                6   \n\n   X5 latitude  X6 longitude  Y house price of unit area  \n0     24.96357     121.54951                        22.3  \n1     24.97433     121.54310                        52.7  \n2     24.97631     121.54436                        42.5  \n3     24.96515     121.53737                        31.3  \n4     24.96604     121.54211                        42.2  ",
      "text/html": "<div>\n<style scoped>\n    .dataframe tbody tr th:only-of-type {\n        vertical-align: middle;\n    }\n\n    .dataframe tbody tr th {\n        vertical-align: top;\n    }\n\n    .dataframe thead th {\n        text-align: right;\n    }\n</style>\n<table border=\"1\" class=\"dataframe\">\n  <thead>\n    <tr style=\"text-align: right;\">\n      <th></th>\n      <th>No</th>\n      <th>X1 transaction date</th>\n      <th>X2 house age</th>\n      <th>X3 distance to the nearest MRT station</th>\n      <th>X4 number of convenience stores</th>\n      <th>X5 latitude</th>\n      <th>X6 longitude</th>\n      <th>Y house price of unit area</th>\n    </tr>\n  </thead>\n  <tbody>\n    <tr>\n      <th>0</th>\n      <td>249</td>\n      <td>2013.000</td>\n      <td>19.0</td>\n      <td>1009.23500</td>\n      <td>0</td>\n      <td>24.96357</td>\n      <td>121.54951</td>\n      <td>22.3</td>\n    </tr>\n    <tr>\n      <th>1</th>\n      <td>253</td>\n      <td>2012.833</td>\n      <td>5.9</td>\n      <td>90.45606</td>\n      <td>9</td>\n      <td>24.97433</td>\n      <td>121.54310</td>\n      <td>52.7</td>\n    </tr>\n    <tr>\n      <th>2</th>\n      <td>324</td>\n      <td>2013.417</td>\n      <td>28.6</td>\n      <td>197.13380</td>\n      <td>6</td>\n      <td>24.97631</td>\n      <td>121.54436</td>\n      <td>42.5</td>\n    </tr>\n    <tr>\n      <th>3</th>\n      <td>121</td>\n      <td>2013.167</td>\n      <td>13.3</td>\n      <td>492.23130</td>\n      <td>5</td>\n      <td>24.96515</td>\n      <td>121.53737</td>\n      <td>31.3</td>\n    </tr>\n    <tr>\n      <th>4</th>\n      <td>135</td>\n      <td>2012.667</td>\n      <td>33.4</td>\n      <td>186.96860</td>\n      <td>6</td>\n      <td>24.96604</td>\n      <td>121.54211</td>\n      <td>42.2</td>\n    </tr>\n  </tbody>\n</table>\n</div>"
     },
     "execution_count": 3,
     "metadata": {},
     "output_type": "execute_result"
    }
   ],
   "source": [
    "test_data = load_test_data_set()\n",
    "test_data.head()"
   ],
   "metadata": {
    "collapsed": false
   }
  },
  {
   "cell_type": "code",
   "execution_count": 4,
   "outputs": [
    {
     "data": {
      "text/plain": "Y house price of unit area                1.000000\nX4 number of convenience stores           0.573706\nX5 latitude                               0.558391\nX6 longitude                              0.508148\nX1 transaction date                       0.081665\nNo                                       -0.029909\nX2 house age                             -0.232000\nX3 distance to the nearest MRT station   -0.672924\nName: Y house price of unit area, dtype: float64"
     },
     "execution_count": 4,
     "metadata": {},
     "output_type": "execute_result"
    }
   ],
   "source": [
    "corr_matrix = train_data.corr()\n",
    "corr_matrix[\"Y house price of unit area\"].sort_values(ascending=False)"
   ],
   "metadata": {
    "collapsed": false
   }
  },
  {
   "cell_type": "code",
   "execution_count": 5,
   "outputs": [],
   "source": [
    "train_features = train_data.drop(\n",
    "    columns=[\"No\", \"X1 transaction date\", \"Y house price of unit area\"])\n",
    "\n",
    "train_price = train_data[\"Y house price of unit area\"]\n",
    "train_price = train_price.where(\n",
    "    train_price < 61.5, 61.5)\n",
    "\n",
    "test_features = test_data.drop(\n",
    "    columns=[\"No\", \"X1 transaction date\", \"Y house price of unit area\"])\n",
    "test_price = test_data[\"Y house price of unit area\"]"
   ],
   "metadata": {
    "collapsed": false
   }
  },
  {
   "cell_type": "code",
   "execution_count": 6,
   "outputs": [
    {
     "data": {
      "text/plain": "<Axes: >"
     },
     "execution_count": 6,
     "metadata": {},
     "output_type": "execute_result"
    },
    {
     "data": {
      "text/plain": "<Figure size 1000x500 with 1 Axes>",
      "image/png": "[encoded data removed]"
     },
     "metadata": {},
     "output_type": "display_data"
    }
   ],
   "source": [
    "test_price.hist(bins=10, figsize=(10, 5))"
   ],
   "metadata": {
    "collapsed": false
   }
  },
  {
   "cell_type": "code",
   "execution_count": 7,
   "outputs": [
    {
     "data": {
      "text/plain": "<Axes: >"
     },
     "execution_count": 7,
     "metadata": {},
     "output_type": "execute_result"
    },
    {
     "data": {
      "text/plain": "<Figure size 1000x500 with 1 Axes>",
      "image/png": "[encoded data removed]"
     },
     "metadata": {},
     "output_type": "display_data"
    }
   ],
   "source": [
    "train_price.hist(bins=10, figsize=(10, 5))"
   ],
   "metadata": {
    "collapsed": false
   }
  },
  {
   "cell_type": "code",
   "execution_count": 8,
   "outputs": [
    {
     "name": "stdout",
     "output_type": "stream",
     "text": [
      "line_RMSE: 8.577907637632277\n",
      "test min~max: 7.6 ~ 61.5\n",
      "train min~max: 11.2 ~ 61.5\n"
     ]
    }
   ],
   "source": [
    "from sklearn.model_selection import cross_val_score\n",
    "from sklearn.linear_model import LinearRegression\n",
    "from sklearn.metrics import mean_squared_error\n",
    "import numpy as np\n",
    "\n",
    "line_regressor = LinearRegression()\n",
    "line_regressor.fit(train_features, train_price)\n",
    "line_predictions = line_regressor.predict(test_features)\n",
    "line_rmse = np.sqrt(mean_squared_error(test_price, line_predictions))\n",
    "print(f\"line_RMSE: {line_rmse}\")\n",
    "max_value_test = max(test_price)\n",
    "min_value_test = min(test_price)\n",
    "max_value_train = max(train_price)\n",
    "min_value_train = min(train_price)\n",
    "print(\"test min~max:\", min_value_test, \"~\", max_value_test)\n",
    "print(\"train min~max:\", min_value_train, \"~\", max_value_train)\n",
    "line_scores = cross_val_score(line_regressor, train_features, train_price, scoring=\"neg_mean_squared_error\", cv=5)\n",
    "line_rmse_scores = np.sqrt(-line_scores)"
   ],
   "metadata": {
    "collapsed": false
   }
  },
  {
   "cell_type": "code",
   "execution_count": 9,
   "outputs": [
    {
     "name": "stdout",
     "output_type": "stream",
     "text": [
      "tree_RMSE:8.347944013215926\n"
     ]
    }
   ],
   "source": [
    "from sklearn.tree import DecisionTreeRegressor\n",
    "\n",
    "tree_regressor = DecisionTreeRegressor(random_state=42)\n",
    "tree_regressor.fit(train_features, train_price)\n",
    "tree_predictions = tree_regressor.predict(test_features)\n",
    "tree_rmse = np.sqrt(mean_squared_error(test_price, tree_predictions))\n",
    "print(f\"tree_RMSE:{tree_rmse}\")\n",
    "tree_scores = cross_val_score(tree_regressor, train_features, train_price, scoring=\"neg_mean_squared_error\", cv=5)\n",
    "tree_rmse_scores = np.sqrt(-tree_scores)\n"
   ],
   "metadata": {
    "collapsed": false
   }
  },
  {
   "cell_type": "code",
   "execution_count": 10,
   "outputs": [
    {
     "name": "stdout",
     "output_type": "stream",
     "text": [
      "forest_RMSE:7.084660835461315\n"
     ]
    }
   ],
   "source": [
    "from sklearn.ensemble import RandomForestRegressor\n",
    "\n",
    "forest_regressor = RandomForestRegressor(random_state=10)\n",
    "forest_regressor.fit(train_features, train_price)\n",
    "\n",
    "forest_predictions = forest_regressor.predict(test_features)\n",
    "forest_rmse = np.sqrt(mean_squared_error(test_price, forest_predictions))\n",
    "print(f\"forest_RMSE:{forest_rmse}\")\n",
    "forest_scores = cross_val_score(forest_regressor, train_features, train_price, scoring=\"neg_mean_squared_error\", cv=5)\n",
    "forest_rmse_scores = np.sqrt(-forest_scores)"
   ],
   "metadata": {
    "collapsed": false
   }
  },
  {
   "cell_type": "code",
   "execution_count": 11,
   "outputs": [],
   "source": [
    "def display_scores(scores):\n",
    "    print(\"scores\", scores)\n",
    "    print(\"mean:\", scores.mean())\n",
    "    print(\"standard deviation:\", scores.std())"
   ],
   "metadata": {
    "collapsed": false
   }
  },
  {
   "cell_type": "code",
   "execution_count": 12,
   "outputs": [
    {
     "name": "stdout",
     "output_type": "stream",
     "text": [
      "scores [6.68078969 6.24473111 6.64409512 5.98876726 8.50056371]\n",
      "mean: 6.811789378111419\n",
      "standard deviation: 0.8827413544462129\n"
     ]
    }
   ],
   "source": [
    "display_scores(tree_rmse_scores)"
   ],
   "metadata": {
    "collapsed": false
   }
  },
  {
   "cell_type": "code",
   "execution_count": 13,
   "outputs": [
    {
     "name": "stdout",
     "output_type": "stream",
     "text": [
      "scores [8.10782741 6.91174891 6.77448667 6.27166466 8.16815158]\n",
      "mean: 7.246775844653742\n",
      "standard deviation: 0.7584833513782522\n"
     ]
    }
   ],
   "source": [
    "display_scores(line_rmse_scores)"
   ],
   "metadata": {
    "collapsed": false
   }
  },
  {
   "cell_type": "code",
   "execution_count": 14,
   "outputs": [
    {
     "name": "stdout",
     "output_type": "stream",
     "text": [
      "scores [6.55992951 4.55949237 5.77108337 4.91855095 6.54087813]\n",
      "mean: 5.669986863131959\n",
      "standard deviation: 0.8195759838376149\n"
     ]
    }
   ],
   "source": [
    "display_scores(forest_rmse_scores)"
   ],
   "metadata": {
    "collapsed": false
   }
  },
  {
   "cell_type": "code",
   "execution_count": 15,
   "outputs": [],
   "source": [
    "train_price_label = train_price\n",
    "test_price_label = test_price\n",
    "train_price_label_T = train_price\n",
    "test_price_label_T = test_price\n",
    "train_price_label = np.where(train_price_label >= 30, \"expensive\", \"not_expensive\")\n",
    "test_price_label = np.where(test_price_label >= 30, \"expensive\", \"not_expensive\")\n"
   ],
   "metadata": {
    "collapsed": false
   }
  },
  {
   "cell_type": "code",
   "execution_count": 16,
   "outputs": [
    {
     "name": "stdout",
     "output_type": "stream",
     "text": [
      "分类模型的准确度: 0.8849557522123894\n",
      "['not_expensive' 'expensive' 'expensive' 'expensive' 'expensive'\n",
      " 'expensive' 'not_expensive' 'expensive' 'not_expensive' 'not_expensive']\n",
      "['not_expensive' 'expensive' 'expensive' 'expensive' 'expensive'\n",
      " 'expensive' 'not_expensive' 'expensive' 'not_expensive' 'expensive']\n"
     ]
    },
    {
     "data": {
      "text/plain": "array([0.93548387, 0.93333333, 0.9       , 0.93333333, 0.86666667,\n       0.9       , 0.86666667, 0.9       , 0.93333333, 0.93333333])"
     },
     "execution_count": 16,
     "metadata": {},
     "output_type": "execute_result"
    }
   ],
   "source": [
    "from sklearn.ensemble import RandomForestClassifier\n",
    "from sklearn.metrics import accuracy_score\n",
    "\n",
    "Classifier = RandomForestClassifier(random_state=10)\n",
    "Classifier.fit(train_features, train_price_label)\n",
    "preictions = Classifier.predict(test_features)\n",
    "accuracy = accuracy_score(test_price_label, preictions)\n",
    "print(f\"分类模型的准确度: {accuracy}\")\n",
    "print(preictions[:10])\n",
    "print(test_price_label[:10])\n",
    "cross_val_score(Classifier, train_features, train_price_label, cv=10, scoring=\"accuracy\")"
   ],
   "metadata": {
    "collapsed": false
   }
  },
  {
   "cell_type": "code",
   "execution_count": 17,
   "outputs": [
    {
     "name": "stdout",
     "output_type": "stream",
     "text": [
      "分类模型的准确度: 0.8672566371681416\n"
     ]
    },
    {
     "data": {
      "text/plain": "array([0.90322581, 0.96666667, 0.86666667, 0.8       , 0.76666667,\n       0.9       , 0.8       , 0.76666667, 0.8       , 0.8       ])"
     },
     "execution_count": 17,
     "metadata": {},
     "output_type": "execute_result"
    }
   ],
   "source": [
    "from sklearn.linear_model import SGDClassifier\n",
    "\n",
    "sgd_classifier = SGDClassifier(random_state=10)\n",
    "sgd_classifier.fit(train_features, train_price_label)\n",
    "sgd_predictions = sgd_classifier.predict(test_features)\n",
    "sgd_accuracy = accuracy_score(test_price_label, sgd_predictions)\n",
    "print(f\"分类模型的准确度: {sgd_accuracy}\")\n",
    "cross_val_score(sgd_classifier, train_features, train_price_label, cv=10, scoring=\"accuracy\")"
   ],
   "metadata": {
    "collapsed": false
   }
  },
  {
   "cell_type": "code",
   "execution_count": 17,
   "outputs": [],
   "source": [],
   "metadata": {
    "collapsed": false
   }
  },
  {
   "cell_type": "code",
   "execution_count": 18,
   "outputs": [
    {
     "name": "stdout",
     "output_type": "stream",
     "text": [
      "分类模型的准确度: 0.0\n",
      "[[False]\n",
      " [False]\n",
      " [False]\n",
      " [False]\n",
      " [False]\n",
      " [False]\n",
      " [False]\n",
      " [False]\n",
      " [False]\n",
      " [False]]\n",
      "['not_expensive' 'expensive' 'expensive' 'expensive' 'expensive'\n",
      " 'expensive' 'not_expensive' 'expensive' 'not_expensive' 'expensive']\n"
     ]
    },
    {
     "data": {
      "text/plain": "array([0., 0., 0., 0., 0., 0., 0., 0., 0., 0.])"
     },
     "execution_count": 18,
     "metadata": {},
     "output_type": "execute_result"
    }
   ],
   "source": [
    "from sklearn.base import BaseEstimator\n",
    "\n",
    "\n",
    "class Never5Classifier(BaseEstimator):\n",
    "    def fit(self, x, y=None):\n",
    "        pass\n",
    "\n",
    "    def predict(self, x):\n",
    "        return np.zeros((len(x), 1), dtype=bool)\n",
    "\n",
    "\n",
    "base_foress = Never5Classifier()\n",
    "\n",
    "base_foress.fit(train_features, train_price_label)\n",
    "base_predictions = base_foress.predict(test_features)\n",
    "base_accuracy = accuracy_score(test_price_label, base_predictions)\n",
    "print(f\"分类模型的准确度: {base_accuracy}\")\n",
    "print(base_predictions[:10])\n",
    "print(test_price_label[:10])\n",
    "cross_val_score(base_foress, train_features, train_price_label, cv=10, scoring=\"accuracy\")"
   ],
   "metadata": {
    "collapsed": false,
    "pycharm": {
     "name": "#%%i\n"
    }
   }
  },
  {
   "cell_type": "code",
   "execution_count": 18,
   "outputs": [],
   "source": [],
   "metadata": {
    "collapsed": false
   }
  }
 ],
 "metadata": {
  "kernelspec": {
   "display_name": "Python 3",
   "language": "python",
   "name": "python3"
  },
  "language_info": {
   "codemirror_mode": {
    "name": "ipython",
    "version": 2
   },
   "file_extension": ".py",
   "mimetype": "text/x-python",
   "name": "python",
   "nbconvert_exporter": "python",
   "pygments_lexer": "ipython2",
   "version": "2.7.6"
  }
 },
 "nbformat": 4,
 "nbformat_minor": 0
}
